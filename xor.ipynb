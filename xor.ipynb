{
 "cells": [
  {
   "metadata": {},
   "cell_type": "markdown",
   "source": "#### Forward pass",
   "id": "18b54b7bb7d25ac3"
  },
  {
   "cell_type": "code",
   "id": "initial_id",
   "metadata": {
    "collapsed": true,
    "ExecuteTime": {
     "end_time": "2025-07-11T19:03:43.495901Z",
     "start_time": "2025-07-11T19:03:43.488157Z"
    }
   },
   "source": [
    "import numpy as np\n",
    "\n",
    "def sigmoid(x):\n",
    "    return 1 / (1 + np.exp(-x))\n",
    "\n",
    "def tanh(x):\n",
    "    return np.tanh(x)\n",
    "\n",
    "def forward(X, W1, B1, W2, B2):\n",
    "    Z1 = np.dot(X, W1) + B1\n",
    "    A1 = tanh(Z1)\n",
    "    Z2 = np.dot(A1, W2) + B2\n",
    "    A2 = sigmoid(Z2)\n",
    "    print(\"Z1\", Z1.shape)\n",
    "    print(\"A1\", A1.shape)\n",
    "    print(\"Z2\", Z2.shape)\n",
    "    print(\"A2\", A2.shape)\n",
    "\n",
    "    return A2\n",
    "\n",
    "np.random.seed(39)\n",
    "\n",
    "X = np.array([[0, 0],[0, 1],[1, 0],[1, 1],]) # 2 input feature\n",
    "y = np.array([[0], [1], [1], [0]])\n",
    "\n",
    "W1 = np.random.randn(2,2)\n",
    "B1 = np.zeros((1,2))\n",
    "W2 = np.random.randn(2, 1)\n",
    "B2 = np.zeros((1, 1))\n",
    "\n",
    "pridict = forward(X, W1, B1, W2, B2)\n",
    "print(*pridict)\n",
    "print(\"\\n\",*y)"
   ],
   "outputs": [
    {
     "name": "stdout",
     "output_type": "stream",
     "text": [
      "Z1 (4, 2)\n",
      "A1 (4, 2)\n",
      "Z2 (4, 1)\n",
      "A2 (4, 1)\n",
      "[0.5] [0.55219041] [0.74351901] [0.78891869]\n",
      "\n",
      " [0] [1] [1] [0]\n"
     ]
    }
   ],
   "execution_count": 4
  },
  {
   "metadata": {
    "ExecuteTime": {
     "end_time": "2025-07-11T20:05:14.239216Z",
     "start_time": "2025-07-11T20:05:13.966843Z"
    }
   },
   "cell_type": "code",
   "source": [
    "import numpy as np\n",
    "\n",
    "def sigmoid(x):\n",
    "    return 1 / (1 + np.exp(-x))\n",
    "\n",
    "def sigmoid_derivative(x):\n",
    "    return sigmoid(x) * (1 - sigmoid(x))\n",
    "\n",
    "def tanh(x):\n",
    "    return np.tanh(x)\n",
    "\n",
    "def tanh_derivative(x):\n",
    "    return 1 - np.tanh(x)**2\n",
    "\n",
    "def binary_cross_entropy(y_true, y_pred):\n",
    "    epsilon = 1e-8\n",
    "    return -np.mean(y_true * np.log(y_pred + epsilon) + (1 - y_true) * np.log(1 - y_pred + epsilon))\n",
    "\n",
    "# Data\n",
    "X = np.array([[0, 0],[0, 1],[1, 0],[1, 1]])\n",
    "y = np.array([[0], [1], [1], [0]])\n",
    "\n",
    "# Initialize weights\n",
    "np.random.seed(39)\n",
    "W1 = np.random.randn(2, 2)\n",
    "B1 = np.zeros((1, 2))\n",
    "W2 = np.random.randn(2, 1)\n",
    "B2 = np.zeros((1, 1))\n",
    "\n",
    "# Training parameters\n",
    "lr = 0.1\n",
    "epochs = 10000\n",
    "\n",
    "# Training loop\n",
    "for epoch in range(epochs):\n",
    "    # Forward pass\n",
    "    Z1 = np.dot(X, W1) + B1\n",
    "    A1 = tanh(Z1)\n",
    "    Z2 = np.dot(A1, W2) + B2\n",
    "    A2 = sigmoid(Z2)\n",
    "\n",
    "    # Compute loss\n",
    "    loss = binary_cross_entropy(y, A2)\n",
    "\n",
    "    # Backpropagation\n",
    "    dZ2 = A2 - y                         # Derivative of loss w.r.t Z2\n",
    "    dW2 = np.dot(A1.T, dZ2) / X.shape[0]\n",
    "    dB2 = np.sum(dZ2, axis=0, keepdims=True) / X.shape[0]\n",
    "\n",
    "    dA1 = np.dot(dZ2, W2.T)\n",
    "    dZ1 = dA1 * tanh_derivative(Z1)\n",
    "    dW1 = np.dot(X.T, dZ1) / X.shape[0]\n",
    "    dB1 = np.sum(dZ1, axis=0, keepdims=True) / X.shape[0]\n",
    "\n",
    "    # Update weights and biases\n",
    "    W1 -= lr * dW1\n",
    "    B1 -= lr * dB1\n",
    "    W2 -= lr * dW2\n",
    "    B2 -= lr * dB2\n",
    "\n",
    "    # Print loss every 1000 epochs\n",
    "    if epoch % 1000 == 0:\n",
    "        print(f\"Epoch {epoch} Loss: {loss:.4f}\")\n",
    "\n",
    "# Final prediction\n",
    "print(\"\\nFinal Predictions:\")\n",
    "print(*A2.round())\n",
    "print(*y)"
   ],
   "id": "5baf9aa3f83b9917",
   "outputs": [
    {
     "name": "stdout",
     "output_type": "stream",
     "text": [
      "Epoch 0 Loss: 0.7847\n",
      "Epoch 1000 Loss: 0.0815\n",
      "Epoch 2000 Loss: 0.0228\n",
      "Epoch 3000 Loss: 0.0131\n",
      "Epoch 4000 Loss: 0.0092\n",
      "Epoch 5000 Loss: 0.0071\n",
      "Epoch 6000 Loss: 0.0057\n",
      "Epoch 7000 Loss: 0.0048\n",
      "Epoch 8000 Loss: 0.0042\n",
      "Epoch 9000 Loss: 0.0037\n",
      "\n",
      "Final Predictions:\n",
      "[0.] [1.] [1.] [0.]\n",
      "[0] [1] [1] [0]\n"
     ]
    }
   ],
   "execution_count": 26
  },
  {
   "metadata": {},
   "cell_type": "code",
   "outputs": [],
   "execution_count": null,
   "source": "",
   "id": "1c14d2c022ef7c51"
  }
 ],
 "metadata": {
  "kernelspec": {
   "display_name": "Python 3",
   "language": "python",
   "name": "python3"
  },
  "language_info": {
   "codemirror_mode": {
    "name": "ipython",
    "version": 2
   },
   "file_extension": ".py",
   "mimetype": "text/x-python",
   "name": "python",
   "nbconvert_exporter": "python",
   "pygments_lexer": "ipython2",
   "version": "2.7.6"
  }
 },
 "nbformat": 4,
 "nbformat_minor": 5
}

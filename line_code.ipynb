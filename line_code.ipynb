{
 "cells": [
  {
   "metadata": {
    "ExecuteTime": {
     "end_time": "2025-07-09T14:57:24.476650Z",
     "start_time": "2025-07-09T14:57:24.392121Z"
    }
   },
   "cell_type": "code",
   "source": "import numpy as np",
   "id": "e2ed1daf1467d09e",
   "outputs": [],
   "execution_count": 4
  },
  {
   "cell_type": "code",
   "id": "initial_id",
   "metadata": {
    "collapsed": true,
    "ExecuteTime": {
     "end_time": "2025-07-09T14:57:32.624091Z",
     "start_time": "2025-07-09T14:57:32.621478Z"
    }
   },
   "source": [
    "W1 = np.random.randn(2, 2) * 0.01\n",
    "print(W1)"
   ],
   "outputs": [
    {
     "name": "stdout",
     "output_type": "stream",
     "text": [
      "[[ 0.00494835 -0.00898249]\n",
      " [ 0.00832973  0.00873026]]\n"
     ]
    }
   ],
   "execution_count": 6
  },
  {
   "metadata": {
    "ExecuteTime": {
     "end_time": "2025-07-10T03:02:21.547176Z",
     "start_time": "2025-07-10T03:02:21.294084Z"
    }
   },
   "cell_type": "code",
   "source": [
    "import numpy as np\n",
    "\n",
    "# XOR data\n",
    "X = np.array([[0,0],[0,1],[1,0],[1,1]])\n",
    "y = np.array([[0],[1],[1],[0]])\n",
    "\n",
    "# Activation functions\n",
    "def sigmoid(x):\n",
    "    return 1 / (1 + np.exp(-x))\n",
    "\n",
    "def sigmoid_derivative(s):\n",
    "    # s = sigmoid(x)\n",
    "    return s * (1 - s)\n",
    "\n",
    "# Initialize weights and biases\n",
    "np.random.seed(42)\n",
    "W1 = np.random.randn(2, 2) * 0.01\n",
    "b1 = np.zeros((1, 2))\n",
    "W2 = np.random.randn(2, 1) * 0.01\n",
    "b2 = np.zeros((1, 1))\n",
    "\n",
    "# Training parameters\n",
    "learning_rate = 0.1\n",
    "max_epochs = 10000\n",
    "loss_threshold = 0.01\n",
    "\n",
    "# Training loop\n",
    "for epoch in range(max_epochs):\n",
    "    # ----- FORWARD PASS -----\n",
    "    Z1 = np.dot(X, W1) + b1\n",
    "    A1 = sigmoid(Z1)\n",
    "    Z2 = np.dot(A1, W2) + b2\n",
    "    A2 = sigmoid(Z2)  # Output prediction (y_hat)\n",
    "\n",
    "    # ----- LOSS (Binary Cross-Entropy) -----\n",
    "    m = y.shape[0]\n",
    "    loss = -np.mean(y * np.log(A2 + 1e-8) + (1 - y) * np.log(1 - A2 + 1e-8))\n",
    "\n",
    "    # Optional: print loss every 1000 epochs\n",
    "    if epoch % 1000 == 0:\n",
    "        print(f\"Epoch {epoch}, Loss: {loss:.5f}\")\n",
    "\n",
    "    # ----- TERMINATION -----\n",
    "    if loss < loss_threshold:\n",
    "        print(f\"Training stopped at epoch {epoch}, Loss: {loss:.5f}\")\n",
    "        break\n",
    "\n",
    "    # ----- BACKPROPAGATION -----\n",
    "    dZ2 = A2 - y\n",
    "    dW2 = np.dot(A1.T, dZ2) / m\n",
    "    db2 = np.sum(dZ2, axis=0, keepdims=True) / m\n",
    "\n",
    "    dA1 = np.dot(dZ2, W2.T)\n",
    "    dZ1 = dA1 * sigmoid_derivative(A1)\n",
    "    dW1 = np.dot(X.T, dZ1) / m\n",
    "    db1 = np.sum(dZ1, axis=0, keepdims=True) / m\n",
    "\n",
    "    # ----- UPDATE WEIGHTS -----\n",
    "    W1 -= learning_rate * dW1\n",
    "    b1 -= learning_rate * db1\n",
    "    W2 -= learning_rate * dW2\n",
    "    b2 -= learning_rate * db2\n",
    "\n",
    "# Final predictions\n",
    "Z1 = np.dot(X, W1) + b1\n",
    "A1 = sigmoid(Z1)\n",
    "Z2 = np.dot(A1, W2) + b2\n",
    "y_pred = sigmoid(Z2)\n",
    "\n",
    "print(\"\\nFinal Predictions (after training):\")\n",
    "print(*np.round(y_pred))\n",
    "print(\"Actual value of y:\")\n",
    "print(*np.round(y))\n",
    "\n",
    "predictions = (y_pred > 0.5).astype(int)\n",
    "accuracy = np.mean(predictions == y)\n",
    "print(f\"\\nAccuracy: {accuracy * 100:.2f}%\")\n",
    "\n"
   ],
   "id": "8c3e098824c330be",
   "outputs": [
    {
     "name": "stdout",
     "output_type": "stream",
     "text": [
      "Epoch 0, Loss: 0.69315\n",
      "Epoch 1000, Loss: 0.69315\n",
      "Epoch 2000, Loss: 0.69315\n",
      "Epoch 3000, Loss: 0.69315\n",
      "Epoch 4000, Loss: 0.69315\n",
      "Epoch 5000, Loss: 0.69315\n",
      "Epoch 6000, Loss: 0.69315\n",
      "Epoch 7000, Loss: 0.69315\n",
      "Epoch 8000, Loss: 0.69315\n",
      "Epoch 9000, Loss: 0.69315\n",
      "\n",
      "Final Predictions (after training):\n",
      "[1.] [0.] [1.] [0.]\n",
      "Actual value of y:\n",
      "[0] [1] [1] [0]\n",
      "\n",
      "Accuracy: 50.00%\n"
     ]
    }
   ],
   "execution_count": 9
  },
  {
   "metadata": {
    "ExecuteTime": {
     "end_time": "2025-07-09T19:01:55.113544Z",
     "start_time": "2025-07-09T19:01:55.110210Z"
    }
   },
   "cell_type": "code",
   "source": [
    "def predict(x):\n",
    "    z1 = np.dot(x, W1) + b1\n",
    "    a1 = sigmoid(z1)\n",
    "    z2 = np.dot(a1, W2) + b2\n",
    "    a2 = sigmoid(z2)\n",
    "    return np.round(a2)\n",
    "\n",
    "# Try new input\n",
    "print(\"Predict [1, 1]:\", predict(np.array([[1, 1]])))\n",
    "print(\"Predict [0, 1]:\", predict(np.array([[0, 1]])))\n"
   ],
   "id": "94217dbec06a1045",
   "outputs": [
    {
     "name": "stdout",
     "output_type": "stream",
     "text": [
      "Predict [1, 1]: [[0.]]\n",
      "Predict [0, 1]: [[0.]]\n"
     ]
    }
   ],
   "execution_count": 8
  },
  {
   "metadata": {},
   "cell_type": "code",
   "outputs": [],
   "execution_count": null,
   "source": "",
   "id": "7403de4b9b6b6a11"
  },
  {
   "metadata": {
    "ExecuteTime": {
     "end_time": "2025-07-10T03:06:23.743287Z",
     "start_time": "2025-07-10T03:06:23.735431Z"
    }
   },
   "cell_type": "code",
   "source": [
    "# I used sigmoid activation function for hidden layer and output\n",
    "def sigmoid(z):\n",
    "    z= 1/(1+np.exp(-z))\n",
    "    return z\n",
    "\n",
    "# Forward propagation\n",
    "def forward_prop(w1,w2,x):\n",
    "    z1 = np.dot(w1,x)\n",
    "    a1 = sigmoid(z1)\n",
    "    z2 = np.dot(w2,a1)\n",
    "    a2 = sigmoid(z2)\n",
    "    return z1,a1,z2,a2\n",
    "\n",
    "# Backward propagation\n",
    "def back_prop(m,w1,w2,z1,a1,z2,a2,y):\n",
    "\n",
    "    dz2 = a2-y\n",
    "    dw2 = np.dot(dz2,a1.T)/m\n",
    "    dz1 = np.dot(w2.T,dz2) * a1*(1-a1)\n",
    "    dw1 = np.dot(dz1,x.T)/m\n",
    "    dw1 = np.reshape(dw1,w1.shape)\n",
    "\n",
    "    dw2 = np.reshape(dw2,w2.shape)\n",
    "    return dz2,dw2,dz1,dw1"
   ],
   "id": "7927a8fe33e2699d",
   "outputs": [],
   "execution_count": 1
  },
  {
   "metadata": {
    "ExecuteTime": {
     "end_time": "2025-07-10T03:06:50.621881Z",
     "start_time": "2025-07-10T03:06:50.554243Z"
    }
   },
   "cell_type": "code",
   "source": [
    "import numpy as np\n",
    "\n",
    "\n",
    "# These are XOR inputs\n",
    "x=np.array([[0,0,1,1],[0,1,0,1]])\n",
    "# These are XOR outputs\n",
    "y=np.array([[0,1,1,0]])\n",
    "# Number of inputs\n",
    "n_x = 2\n",
    "# Number of neurns in output layer\n",
    "n_y = 1\n",
    "# Number of neurons in hidden layer\n",
    "n_h = 2\n",
    "# Total training examples\n",
    "m = x.shape[1]\n",
    "# Learning rate\n",
    "lr = 0.1\n",
    "# Define random seed for consistent results\n",
    "np.random.seed(2)\n",
    "# Define weight matrices for neural network\n",
    "w1 = np.random.rand(n_h,n_x)   # Weight matrix for hidden layer\n",
    "w2 = np.random.rand(n_y,n_h)   # Weight matrix for output layer\n",
    "# I didnt use bias units\n",
    "# We will use this list to accumulate losses\n",
    "losses = []"
   ],
   "id": "170b5ea47a419349",
   "outputs": [],
   "execution_count": 3
  },
  {
   "metadata": {
    "ExecuteTime": {
     "end_time": "2025-07-10T03:08:48.055051Z",
     "start_time": "2025-07-10T03:08:45.598698Z"
    }
   },
   "cell_type": "code",
   "source": [
    "import numpy as np\n",
    "import matplotlib.pyplot as plt\n",
    "\n",
    "# Define the sigmoid activation function and its derivative\n",
    "def sigmoid(x):\n",
    "    return 1 / (1 + np.exp(-x))\n",
    "\n",
    "def sigmoid_derivative(x):\n",
    "    return x * (1 - x)\n",
    "\n",
    "# Define the neural network class\n",
    "# The order of parameters should be input_size followed by hidden_size for the first weight matrix,\n",
    "# and hidden_size followed by output_size for the second weight matrix.\n",
    "# This is based on the structure of the neural network where the input layer connects to the hidden layer, and the hidden layer connects to the output layer.\n",
    "class NeuralNetwork:\n",
    "    def __init__(self, input_size, hidden_size, output_size):\n",
    "        self.weights_input_hidden = np.random.rand(input_size, hidden_size)\n",
    "        self.weights_hidden_output = np.random.rand(hidden_size, output_size)\n",
    "\n",
    "# Define the forward pass and training methods\n",
    "    def forward(self, inputs):\n",
    "        hidden_input = np.dot(inputs, self.weights_input_hidden)\n",
    "        hidden_output = sigmoid(hidden_input) # activation function\n",
    "        output_input = np.dot(hidden_output, self.weights_hidden_output) # weighted sum\n",
    "        output = sigmoid(output_input)\n",
    "        return output\n",
    "\n",
    "# Define the backpropagation method for training\n",
    "# The train method combines forward propagation, error calculation, backpropagation, and weight update,\n",
    "# which are the key components of the gradient descent optimization process.\n",
    "# The weights are iteratively adjusted using this process over multiple epochs to\n",
    "# gradually improve the network's ability to make accurate predictions.\n",
    "    def train(self, inputs, targets, epochs):\n",
    "        loss_history = [] # keep track of loss over epochs\n",
    "        for _ in range(epochs): # train for a fixed number of epochs\n",
    "            hidden_input = np.dot(inputs, self.weights_input_hidden) # weighted sum\n",
    "            hidden_output = sigmoid(hidden_input) # activation function\n",
    "            output_input = np.dot(hidden_output, self.weights_hidden_output)\n",
    "            output = sigmoid(output_input)\n",
    "            error = targets - output # compute error\n",
    "            d_output = error * sigmoid_derivative(output)\n",
    "            error_hidden = d_output.dot(self.weights_hidden_output.T) # backpropagate error\n",
    "            d_hidden = error_hidden * sigmoid_derivative(hidden_output) # compute gradients\n",
    "            self.weights_hidden_output += hidden_output.T.dot(d_output) # update weights\n",
    "            self.weights_input_hidden += inputs.T.dot(d_hidden)\n",
    "            loss = np.mean(np.square(error)) # compute loss\n",
    "            loss_history.append(loss) # keep track of loss over epochs\n",
    "        return loss_history\n",
    "\n",
    "# Example usage\n",
    "if __name__ == \"__main__\":\n",
    "    nn = NeuralNetwork(input_size = 2, hidden_size = 2, output_size = 1) # create neural network\n",
    "\n",
    "    training_inputs = np.array([[0, 0], [0, 1], [1, 0], [1, 1]]) # XOR problem In the XOR problem, the goal is to train a neural network to correctly output the XOR (exclusive OR) of two binary inputs.\n",
    "    training_targets = np.array([[0], [1], [1], [0]])\n",
    "\n",
    "    epochs = 10000 # train for 10000 epochs\n",
    "    loss_history = nn.train(training_inputs, training_targets, epochs) # train neural network\n",
    "\n",
    "    test_input = np.array([[0, 0]]) # test neural network\n",
    "    predicted_output = nn.forward(test_input) # make prediction\n",
    "\n",
    "    # Test the trained network on all inputs\n",
    "    for test_input in training_inputs:\n",
    "        predicted_output = nn.forward(test_input)\n",
    "        expected_output = training_targets[np.where((training_inputs == test_input).all(axis=1))[0][0]]\n",
    "        print(f\"Input: {test_input}, Predicted Output: {predicted_output}, Expected Output: {expected_output}\")\n",
    "\n",
    "    plt.plot(range(epochs), loss_history) # plot loss over epochs\n",
    "    plt.xlabel(\"Epoch\")\n",
    "    plt.ylabel(\"Mean Squared Error\")\n",
    "    plt.title(\"Training Loss Over Epochs\")\n",
    "    plt.show()"
   ],
   "id": "127778ac5258ff86",
   "outputs": [
    {
     "name": "stdout",
     "output_type": "stream",
     "text": [
      "Input: [0 0], Predicted Output: [0.03406236], Expected Output: [0]\n",
      "Input: [0 1], Predicted Output: [0.92873071], Expected Output: [1]\n",
      "Input: [1 0], Predicted Output: [0.92873072], Expected Output: [1]\n",
      "Input: [1 1], Predicted Output: [0.09500753], Expected Output: [0]\n"
     ]
    },
    {
     "data": {
      "text/plain": [
       "<Figure size 640x480 with 1 Axes>"
      ],
      "image/png": "[encoded data removed]"
     },
     "metadata": {},
     "output_type": "display_data"
    }
   ],
   "execution_count": 5
  },
  {
   "metadata": {
    "ExecuteTime": {
     "end_time": "2025-07-10T03:11:54.576813Z",
     "start_time": "2025-07-10T03:11:54.459321Z"
    }
   },
   "cell_type": "code",
   "source": [
    "def predict(x, model):\n",
    "    z1 = np.dot(x, model.weights_input_hidden)\n",
    "    a1 = sigmoid(z1)\n",
    "    z2 = np.dot(a1, model.weights_hidden_output)\n",
    "    a2 = sigmoid(z2)\n",
    "    return np.round(a2)\n",
    "\n",
    "# Train your model as before\n",
    "nn = NeuralNetwork(input_size=2, hidden_size=2, output_size=1)\n",
    "nn.train(training_inputs, training_targets, epochs=10000)\n",
    "\n",
    "# Predict using external function\n",
    "print(\"Predict [1, 1]:\", predict(np.array([[1, 1]]), nn))\n",
    "print(\"Predict [0, 1]:\", predict(np.array([[0, 1]]), nn))\n",
    "print(\"Predict [1, 0]:\", predict(np.array([[1, 0]]), nn))\n",
    "print(\"Predict [0, 0]:\", predict(np.array([[0, 0]]), nn))\n"
   ],
   "id": "28fdd732047c90b7",
   "outputs": [
    {
     "name": "stdout",
     "output_type": "stream",
     "text": [
      "Predict [1, 1]: [[0.]]\n",
      "Predict [0, 1]: [[1.]]\n",
      "Predict [1, 0]: [[1.]]\n",
      "Predict [0, 0]: [[0.]]\n"
     ]
    }
   ],
   "execution_count": 8
  },
  {
   "metadata": {},
   "cell_type": "code",
   "outputs": [],
   "execution_count": null,
   "source": "",
   "id": "d554adbbb739448d"
  }
 ],
 "metadata": {
  "kernelspec": {
   "display_name": "Python 3",
   "language": "python",
   "name": "python3"
  },
  "language_info": {
   "codemirror_mode": {
    "name": "ipython",
    "version": 2
   },
   "file_extension": ".py",
   "mimetype": "text/x-python",
   "name": "python",
   "nbconvert_exporter": "python",
   "pygments_lexer": "ipython2",
   "version": "2.7.6"
  }
 },
 "nbformat": 4,
 "nbformat_minor": 5
}

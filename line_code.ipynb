{
 "cells": [
  {
   "metadata": {
    "ExecuteTime": {
     "end_time": "2025-07-09T14:57:24.476650Z",
     "start_time": "2025-07-09T14:57:24.392121Z"
    }
   },
   "cell_type": "code",
   "source": "import numpy as np",
   "id": "e2ed1daf1467d09e",
   "outputs": [],
   "execution_count": 4
  },
  {
   "cell_type": "code",
   "id": "initial_id",
   "metadata": {
    "collapsed": true,
    "ExecuteTime": {
     "end_time": "2025-07-09T14:57:32.624091Z",
     "start_time": "2025-07-09T14:57:32.621478Z"
    }
   },
   "source": [
    "W1 = np.random.randn(2, 2) * 0.01\n",
    "print(W1)"
   ],
   "outputs": [
    {
     "name": "stdout",
     "output_type": "stream",
     "text": [
      "[[ 0.00494835 -0.00898249]\n",
      " [ 0.00832973  0.00873026]]\n"
     ]
    }
   ],
   "execution_count": 6
  },
  {
   "metadata": {
    "ExecuteTime": {
     "end_time": "2025-07-09T19:01:43.637386Z",
     "start_time": "2025-07-09T19:01:42.979572Z"
    }
   },
   "cell_type": "code",
   "source": [
    "import numpy as np\n",
    "\n",
    "# XOR data\n",
    "X = np.array([[0,0],[0,1],[1,0],[1,1]])\n",
    "y = np.array([[0],[1],[1],[0]])\n",
    "\n",
    "# Activation functions\n",
    "def sigmoid(x):\n",
    "    return 1 / (1 + np.exp(-x))\n",
    "\n",
    "def sigmoid_derivative(x):\n",
    "    s = sigmoid(x)\n",
    "    return s * (1 - s)\n",
    "\n",
    "# Initialize weights and biases\n",
    "np.random.seed(42)\n",
    "W1 = np.random.randn(2, 2) * 0.01\n",
    "b1 = np.zeros((1, 2))\n",
    "W2 = np.random.randn(2, 1) * 0.01\n",
    "b2 = np.zeros((1, 1))\n",
    "\n",
    "# Training parameters\n",
    "learning_rate = 0.1\n",
    "max_epochs = 10000\n",
    "loss_threshold = 0.01\n",
    "\n",
    "# Training loop\n",
    "for epoch in range(max_epochs):\n",
    "    # ----- FORWARD PASS -----\n",
    "    Z1 = np.dot(X, W1) + b1\n",
    "    A1 = sigmoid(Z1)\n",
    "    Z2 = np.dot(A1, W2) + b2\n",
    "    A2 = sigmoid(Z2)  # Output prediction (y_hat)\n",
    "\n",
    "    # ----- LOSS (Binary Cross-Entropy) -----\n",
    "    m = y.shape[0]\n",
    "    loss = -np.mean(y * np.log(A2 + 1e-8) + (1 - y) * np.log(1 - A2 + 1e-8))\n",
    "\n",
    "    # Optional: print loss every 1000 epochs\n",
    "    if epoch % 1000 == 0:\n",
    "        print(f\"Epoch {epoch}, Loss: {loss:.5f}\")\n",
    "\n",
    "    # ----- TERMINATION -----\n",
    "    if loss < loss_threshold:\n",
    "        print(f\"Training stopped at epoch {epoch}, Loss: {loss:.5f}\")\n",
    "        break\n",
    "\n",
    "    # ----- BACKPROPAGATION -----\n",
    "    dZ2 = A2 - y\n",
    "    dW2 = np.dot(A1.T, dZ2) / m\n",
    "    db2 = np.sum(dZ2, axis=0, keepdims=True) / m\n",
    "\n",
    "    dA1 = np.dot(dZ2, W2.T)\n",
    "    dZ1 = dA1 * sigmoid_derivative(Z1)\n",
    "    dW1 = np.dot(X.T, dZ1) / m\n",
    "    db1 = np.sum(dZ1, axis=0, keepdims=True) / m\n",
    "\n",
    "    # ----- UPDATE WEIGHTS -----\n",
    "    W1 -= learning_rate * dW1\n",
    "    b1 -= learning_rate * db1\n",
    "    W2 -= learning_rate * dW2\n",
    "    b2 -= learning_rate * db2\n",
    "\n",
    "# Final predictions\n",
    "Z1 = np.dot(X, W1) + b1\n",
    "A1 = sigmoid(Z1)\n",
    "Z2 = np.dot(A1, W2) + b2\n",
    "y_pred = sigmoid(Z2)\n",
    "\n",
    "print(\"\\nFinal Predictions (after training):\")\n",
    "print(np.round(y_pred))\n"
   ],
   "id": "8c3e098824c330be",
   "outputs": [
    {
     "name": "stdout",
     "output_type": "stream",
     "text": [
      "Epoch 0, Loss: 0.69315\n",
      "Epoch 1000, Loss: 0.69315\n",
      "Epoch 2000, Loss: 0.69315\n",
      "Epoch 3000, Loss: 0.69315\n",
      "Epoch 4000, Loss: 0.69315\n",
      "Epoch 5000, Loss: 0.69315\n",
      "Epoch 6000, Loss: 0.69315\n",
      "Epoch 7000, Loss: 0.69315\n",
      "Epoch 8000, Loss: 0.69315\n",
      "Epoch 9000, Loss: 0.69315\n",
      "\n",
      "Final Predictions (after training):\n",
      "[[1.]\n",
      " [0.]\n",
      " [1.]\n",
      " [0.]]\n"
     ]
    }
   ],
   "execution_count": 7
  },
  {
   "metadata": {
    "ExecuteTime": {
     "end_time": "2025-07-09T19:01:55.113544Z",
     "start_time": "2025-07-09T19:01:55.110210Z"
    }
   },
   "cell_type": "code",
   "source": [
    "def predict(x):\n",
    "    z1 = np.dot(x, W1) + b1\n",
    "    a1 = sigmoid(z1)\n",
    "    z2 = np.dot(a1, W2) + b2\n",
    "    a2 = sigmoid(z2)\n",
    "    return np.round(a2)\n",
    "\n",
    "# Try new input\n",
    "print(\"Predict [1, 1]:\", predict(np.array([[1, 1]])))\n",
    "print(\"Predict [0, 1]:\", predict(np.array([[0, 1]])))\n"
   ],
   "id": "94217dbec06a1045",
   "outputs": [
    {
     "name": "stdout",
     "output_type": "stream",
     "text": [
      "Predict [1, 1]: [[0.]]\n",
      "Predict [0, 1]: [[0.]]\n"
     ]
    }
   ],
   "execution_count": 8
  },
  {
   "metadata": {},
   "cell_type": "code",
   "outputs": [],
   "execution_count": null,
   "source": "",
   "id": "7403de4b9b6b6a11"
  }
 ],
 "metadata": {
  "kernelspec": {
   "display_name": "Python 3",
   "language": "python",
   "name": "python3"
  },
  "language_info": {
   "codemirror_mode": {
    "name": "ipython",
    "version": 2
   },
   "file_extension": ".py",
   "mimetype": "text/x-python",
   "name": "python",
   "nbconvert_exporter": "python",
   "pygments_lexer": "ipython2",
   "version": "2.7.6"
  }
 },
 "nbformat": 4,
 "nbformat_minor": 5
}
